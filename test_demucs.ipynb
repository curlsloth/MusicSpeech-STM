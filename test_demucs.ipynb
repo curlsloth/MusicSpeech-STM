{
 "cells": [
  {
   "cell_type": "markdown",
   "id": "886e5242-824a-4224-a27b-0c22ef686f0b",
   "metadata": {},
   "source": [
    "python3 -m pip install -U git+https://github.com/adefossez/demucs#egg=demucs"
   ]
  },
  {
   "cell_type": "code",
   "execution_count": 1,
   "id": "bf948c89-ac31-436b-b7a0-d7cedaf7df6b",
   "metadata": {},
   "outputs": [
    {
     "name": "stderr",
     "output_type": "stream",
     "text": [
      "Warning: Looks like you're using an outdated `kagglehub` version, please consider updating (latest version: 0.2.2)\n"
     ]
    },
    {
     "name": "stdout",
     "output_type": "stream",
     "text": [
      "Path to model files: /Users/andrewchang/.cache/kagglehub/models/google/yamnet/tensorFlow2/yamnet/1\n"
     ]
    }
   ],
   "source": [
    "import kagglehub\n",
    "\n",
    "# Download latest version\n",
    "path = kagglehub.model_download(\"google/yamnet/tensorFlow2/yamnet\")\n",
    "\n",
    "print(\"Path to model files:\", path)"
   ]
  },
  {
   "cell_type": "code",
   "execution_count": 10,
   "id": "01cb22c0-b83e-4146-9d00-9f321103e799",
   "metadata": {},
   "outputs": [],
   "source": [
    "model = tf.saved_model.load(\n",
    "    path, tags=None, options=None\n",
    ")"
   ]
  },
  {
   "cell_type": "code",
   "execution_count": 13,
   "id": "2e2f4a4b-e9f7-4836-a6af-8ee4f8fec9d3",
   "metadata": {},
   "outputs": [
    {
     "data": {
      "text/plain": [
       "_SignatureMap({'serving_default': <ConcreteFunction (*, waveform: TensorSpec(shape=(None,), dtype=tf.float32, name='waveform')) -> Dict[['output_1', TensorSpec(shape=(None, 1024), dtype=tf.float32, name='output_1')], ['output_0', TensorSpec(shape=(None, 521), dtype=tf.float32, name='output_0')], ['output_2', TensorSpec(shape=(None, 64), dtype=tf.float32, name='output_2')]] at 0x16AE5DFD0>})"
      ]
     },
     "execution_count": 13,
     "metadata": {},
     "output_type": "execute_result"
    }
   ],
   "source": [
    "model.signatures"
   ]
  },
  {
   "cell_type": "code",
   "execution_count": 2,
   "id": "5da2fa71-e9ea-4172-b7b4-1a4dcad6ee93",
   "metadata": {},
   "outputs": [
    {
     "name": "stderr",
     "output_type": "stream",
     "text": [
      "/Users/andrewchang/opt/anaconda3/envs/demucs/lib/python3.9/site-packages/demucs/api.py:27: UserWarning: TorchAudio's global backend is now deprecated. Please enable distpatcher by setting `TORCHAUDIO_USE_BACKEND_DISPATCHER=1`, and specify backend when calling load/info/save function.\n",
      "  import torchaudio as ta\n",
      "2024-04-05 14:29:31.337863: I tensorflow/core/platform/cpu_feature_guard.cc:182] This TensorFlow binary is optimized to use available CPU instructions in performance-critical operations.\n",
      "To enable the following instructions: SSE4.1 SSE4.2 AVX AVX2 AVX512F AVX512_VNNI FMA, in other operations, rebuild TensorFlow with the appropriate compiler flags.\n"
     ]
    }
   ],
   "source": [
    "import demucs.api\n",
    "import soundfile as sf\n",
    "import torchaudio\n",
    "import torch\n",
    "import scipy.io as sio\n",
    "import tensorflow as tf\n",
    "# import tensorflow_hub as hub"
   ]
  },
  {
   "cell_type": "code",
   "execution_count": 3,
   "id": "ed5b2005-6670-40d3-b9d2-0a0895ded44b",
   "metadata": {},
   "outputs": [],
   "source": [
    "# Initialize with default parameters:\n",
    "separator = demucs.api.Separator()"
   ]
  },
  {
   "cell_type": "code",
   "execution_count": 4,
   "id": "f611c2c2-26c0-4435-9a17-488c16a9ebc6",
   "metadata": {},
   "outputs": [],
   "source": [
    "# import librosa\n",
    "# y, sr = librosa.load('/Users/andrewchang/NYU_research/MusicSpeech-STM/data/musicCorp/fma_large/000/000002.mp3')\n",
    "# y, sr = sf.read('/Users/andrewchang/NYU_research/MusicSpeech-STM/data/musicCorp/fma_large/000/000002.mp3')\n",
    "y, sr = torchaudio.load('/Users/andrewchang/NYU_research/MusicSpeech-STM/data/musicCorp/fma_large/000/000002.mp3')\n"
   ]
  },
  {
   "cell_type": "code",
   "execution_count": 5,
   "id": "dd947fcb-c990-4974-8d76-da0ce7c0b26c",
   "metadata": {},
   "outputs": [
    {
     "data": {
      "text/plain": [
       "torch.Size([2, 1321344])"
      ]
     },
     "execution_count": 5,
     "metadata": {},
     "output_type": "execute_result"
    }
   ],
   "source": [
    "y.shape"
   ]
  },
  {
   "cell_type": "code",
   "execution_count": 6,
   "id": "19bfb3c7-6b6b-4869-bf8d-ffc5e736066b",
   "metadata": {},
   "outputs": [
    {
     "data": {
      "text/plain": [
       "44100"
      ]
     },
     "execution_count": 6,
     "metadata": {},
     "output_type": "execute_result"
    }
   ],
   "source": [
    "sr"
   ]
  },
  {
   "cell_type": "code",
   "execution_count": 7,
   "id": "acd3eee3-90cf-49be-aa0c-843eac2d913f",
   "metadata": {},
   "outputs": [],
   "source": [
    "y_tensor = y"
   ]
  },
  {
   "cell_type": "code",
   "execution_count": 8,
   "id": "b041b858-0d63-4a39-b39e-1729e066443e",
   "metadata": {},
   "outputs": [
    {
     "data": {
      "text/plain": [
       "torch.Size([2, 1321344])"
      ]
     },
     "execution_count": 8,
     "metadata": {},
     "output_type": "execute_result"
    }
   ],
   "source": [
    "# import numpy as np\n",
    "# import torch\n",
    "# # y_2 = np.stack((y, y))\n",
    "# y_tensor = torch.tensor(y)\n",
    "\n",
    "# if y_tensor.shape[0] > y_tensor.shape[1]:\n",
    "#     y_tensor = y_tensor.T\n",
    "\n",
    "# Duplicate and stack the tensor\n",
    "if y.shape[0]==1:\n",
    "    y_tensor = torch.stack((y_tensor, y_tensor), dim=0)\n",
    "\n",
    "y_tensor.shape"
   ]
  },
  {
   "cell_type": "code",
   "execution_count": 9,
   "id": "efb479f0-8a79-4617-947f-414a45234dad",
   "metadata": {},
   "outputs": [],
   "source": [
    "origin, separated = separator.separate_tensor(wav=y_tensor, sr=sr)\n"
   ]
  },
  {
   "cell_type": "code",
   "execution_count": 9,
   "id": "ee1786aa-318b-48bb-a732-117b34cd3b53",
   "metadata": {},
   "outputs": [
    {
     "data": {
      "text/plain": [
       "{'drums': tensor([[2.3971e-04, 1.6992e-04, 2.2337e-04,  ..., 2.0685e-03, 1.6706e-03,\n",
       "          1.4716e-03],\n",
       "         [1.7512e-04, 8.9158e-05, 1.3772e-04,  ..., 2.1505e-03, 1.0183e-03,\n",
       "          2.5540e-03]]),\n",
       " 'bass': tensor([[0.0003, 0.0003, 0.0003,  ..., 0.0154, 0.0153, 0.0151],\n",
       "         [0.0003, 0.0003, 0.0003,  ..., 0.0177, 0.0175, 0.0174]]),\n",
       " 'other': tensor([[ 0.0001,  0.0002,  0.0001,  ..., -0.0075, -0.0121, -0.0134],\n",
       "         [ 0.0004,  0.0005,  0.0003,  ..., -0.0020, -0.0127, -0.0117]]),\n",
       " 'vocals': tensor([[1.0755e-04, 1.8422e-04, 2.3100e-04,  ..., 9.5913e-02, 7.9966e-02,\n",
       "          4.2849e-02],\n",
       "         [2.0579e-04, 2.3162e-04, 3.1246e-04,  ..., 1.1696e-01, 1.5019e-01,\n",
       "          1.3584e-01]])}"
      ]
     },
     "execution_count": 9,
     "metadata": {},
     "output_type": "execute_result"
    }
   ],
   "source": [
    "separated"
   ]
  },
  {
   "cell_type": "code",
   "execution_count": 14,
   "id": "da59f40e-1689-4bcd-94f8-759c68ef11c8",
   "metadata": {},
   "outputs": [
    {
     "data": {
      "text/plain": [
       "torch.Size([2, 1321344])"
      ]
     },
     "execution_count": 14,
     "metadata": {},
     "output_type": "execute_result"
    }
   ],
   "source": [
    "separated['vocals'].shape"
   ]
  },
  {
   "cell_type": "code",
   "execution_count": 19,
   "id": "2a717fdc-3080-40e6-846f-c3950483b560",
   "metadata": {},
   "outputs": [
    {
     "data": {
      "text/plain": [
       "tensor([0.0003, 0.0003, 0.0003,  ..., 0.1015, 0.1110, 0.0845])"
      ]
     },
     "execution_count": 19,
     "metadata": {},
     "output_type": "execute_result"
    }
   ],
   "source": [
    "separated['vocals'].mean(axis=0)"
   ]
  },
  {
   "cell_type": "code",
   "execution_count": 20,
   "id": "37e3a2f1-b08c-4372-96d0-c59b3d4cf944",
   "metadata": {},
   "outputs": [],
   "source": [
    "import numpy as np\n",
    "scores, embeddings, spectrogram = model(np.array(separated['vocals'].mean(axis=0)))"
   ]
  },
  {
   "cell_type": "code",
   "execution_count": 21,
   "id": "6120fc22-c727-4e5a-9a52-41a7e0e7b4bd",
   "metadata": {},
   "outputs": [
    {
     "data": {
      "text/plain": [
       "<tf.Tensor: shape=(172, 521), dtype=float32, numpy=\n",
       "array([[4.5364147e-01, 4.5595123e-03, 1.1929839e-03, ..., 2.7698800e-03,\n",
       "        1.2314862e-03, 9.1753968e-08],\n",
       "       [1.6486099e-01, 1.3112247e-02, 1.0731223e-03, ..., 3.2815991e-03,\n",
       "        3.9036016e-03, 6.9473472e-08],\n",
       "       [3.8418364e-02, 1.4409499e-03, 1.1317354e-03, ..., 5.7045547e-03,\n",
       "        4.5717005e-03, 7.2389389e-07],\n",
       "       ...,\n",
       "       [5.4133873e-02, 6.0582132e-04, 3.6296496e-04, ..., 1.7845613e-03,\n",
       "        1.0789689e-03, 9.4569430e-07],\n",
       "       [6.6219610e-03, 3.1086968e-03, 4.8757669e-05, ..., 4.1922869e-04,\n",
       "        1.9914478e-04, 1.6626602e-08],\n",
       "       [8.1586674e-02, 3.1353948e-03, 3.2573056e-03, ..., 2.8697215e-02,\n",
       "        9.8005384e-03, 1.2756771e-04]], dtype=float32)>"
      ]
     },
     "execution_count": 21,
     "metadata": {},
     "output_type": "execute_result"
    }
   ],
   "source": [
    "scores"
   ]
  },
  {
   "cell_type": "code",
   "execution_count": 22,
   "id": "19d10434-2a97-4fe5-83a3-8cf49d9ad6ae",
   "metadata": {},
   "outputs": [
    {
     "ename": "NameError",
     "evalue": "name 'class_names' is not defined",
     "output_type": "error",
     "traceback": [
      "\u001b[0;31m---------------------------------------------------------------------------\u001b[0m",
      "\u001b[0;31mNameError\u001b[0m                                 Traceback (most recent call last)",
      "Cell \u001b[0;32mIn[22], line 3\u001b[0m\n\u001b[1;32m      1\u001b[0m scores_np \u001b[38;5;241m=\u001b[39m scores\u001b[38;5;241m.\u001b[39mnumpy()\n\u001b[1;32m      2\u001b[0m spectrogram_np \u001b[38;5;241m=\u001b[39m spectrogram\u001b[38;5;241m.\u001b[39mnumpy()\n\u001b[0;32m----> 3\u001b[0m infered_class \u001b[38;5;241m=\u001b[39m \u001b[43mclass_names\u001b[49m[scores_np\u001b[38;5;241m.\u001b[39mmean(axis\u001b[38;5;241m=\u001b[39m\u001b[38;5;241m0\u001b[39m)\u001b[38;5;241m.\u001b[39margmax()]\n\u001b[1;32m      4\u001b[0m \u001b[38;5;28mprint\u001b[39m(\u001b[38;5;124mf\u001b[39m\u001b[38;5;124m'\u001b[39m\u001b[38;5;124mThe main sound is: \u001b[39m\u001b[38;5;132;01m{\u001b[39;00minfered_class\u001b[38;5;132;01m}\u001b[39;00m\u001b[38;5;124m'\u001b[39m)\n",
      "\u001b[0;31mNameError\u001b[0m: name 'class_names' is not defined"
     ]
    }
   ],
   "source": [
    "scores_np = scores.numpy()\n",
    "spectrogram_np = spectrogram.numpy()\n",
    "infered_class = class_names[scores_np.mean(axis=0).argmax()]\n",
    "print(f'The main sound is: {infered_class}')"
   ]
  },
  {
   "cell_type": "code",
   "execution_count": 23,
   "id": "59b3e012-9b6a-4fcc-8e9b-dbbe7911e72f",
   "metadata": {},
   "outputs": [
    {
     "data": {
      "text/plain": [
       "array([[4.5364147e-01, 4.5595123e-03, 1.1929839e-03, ..., 2.7698800e-03,\n",
       "        1.2314862e-03, 9.1753968e-08],\n",
       "       [1.6486099e-01, 1.3112247e-02, 1.0731223e-03, ..., 3.2815991e-03,\n",
       "        3.9036016e-03, 6.9473472e-08],\n",
       "       [3.8418364e-02, 1.4409499e-03, 1.1317354e-03, ..., 5.7045547e-03,\n",
       "        4.5717005e-03, 7.2389389e-07],\n",
       "       ...,\n",
       "       [5.4133873e-02, 6.0582132e-04, 3.6296496e-04, ..., 1.7845613e-03,\n",
       "        1.0789689e-03, 9.4569430e-07],\n",
       "       [6.6219610e-03, 3.1086968e-03, 4.8757669e-05, ..., 4.1922869e-04,\n",
       "        1.9914478e-04, 1.6626602e-08],\n",
       "       [8.1586674e-02, 3.1353948e-03, 3.2573056e-03, ..., 2.8697215e-02,\n",
       "        9.8005384e-03, 1.2756771e-04]], dtype=float32)"
      ]
     },
     "execution_count": 23,
     "metadata": {},
     "output_type": "execute_result"
    }
   ],
   "source": [
    "scores_np"
   ]
  },
  {
   "cell_type": "code",
   "execution_count": null,
   "id": "7f37ab91-699c-46ef-9496-7518d5972d63",
   "metadata": {},
   "outputs": [],
   "source": []
  }
 ],
 "metadata": {
  "kernelspec": {
   "display_name": "Python 3 (ipykernel)",
   "language": "python",
   "name": "python3"
  },
  "language_info": {
   "codemirror_mode": {
    "name": "ipython",
    "version": 3
   },
   "file_extension": ".py",
   "mimetype": "text/x-python",
   "name": "python",
   "nbconvert_exporter": "python",
   "pygments_lexer": "ipython3",
   "version": "3.9.19"
  }
 },
 "nbformat": 4,
 "nbformat_minor": 5
}
