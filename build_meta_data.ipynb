{
 "cells": [
  {
   "cell_type": "markdown",
   "id": "9ee341f2-b2d8-4114-bb35-1c409bbc4914",
   "metadata": {},
   "source": [
    "# Speech corpora #"
   ]
  },
  {
   "cell_type": "code",
   "execution_count": 4,
   "id": "1092efe1-9058-4a43-9577-e7f690b57484",
   "metadata": {},
   "outputs": [],
   "source": [
    "corpus_list = ['BibleTTS/akuapem-twi',\n",
    "    'BibleTTS/asante-twi',\n",
    "    'BibleTTS/ewe',\n",
    "    'BibleTTS/hausa',\n",
    "    'BibleTTS/lingala',\n",
    "    'BibleTTS/yoruba',\n",
    "    'Buckeye',\n",
    "    'EUROM',\n",
    "    'LibriSpeech',\n",
    "    # 'LibriVox',\n",
    "    'MediaSpeech/AR',\n",
    "    'MediaSpeech/ES',\n",
    "    'MediaSpeech/FR',\n",
    "    'MediaSpeech/TR',\n",
    "    'MozillaCommonVoice/ab',\n",
    "    'MozillaCommonVoice/ar',\n",
    "    'MozillaCommonVoice/ba',\n",
    "    'MozillaCommonVoice/be',\n",
    "    'MozillaCommonVoice/bg',\n",
    "    'MozillaCommonVoice/bn',\n",
    "    'MozillaCommonVoice/br',\n",
    "    'MozillaCommonVoice/ca',\n",
    "    'MozillaCommonVoice/ckb',\n",
    "    'MozillaCommonVoice/cnh',\n",
    "    'MozillaCommonVoice/cs',\n",
    "    'MozillaCommonVoice/cv',\n",
    "    'MozillaCommonVoice/cy',\n",
    "    'MozillaCommonVoice/da',\n",
    "    'MozillaCommonVoice/de',\n",
    "    'MozillaCommonVoice/dv',\n",
    "    'MozillaCommonVoice/el',\n",
    "    'MozillaCommonVoice/en',\n",
    "    'MozillaCommonVoice/eo',\n",
    "    'MozillaCommonVoice/es',\n",
    "    'MozillaCommonVoice/et',\n",
    "    'MozillaCommonVoice/eu',\n",
    "    'MozillaCommonVoice/fa',\n",
    "    'MozillaCommonVoice/fi',\n",
    "    'MozillaCommonVoice/fr',\n",
    "    'MozillaCommonVoice/fy-NL',\n",
    "    'MozillaCommonVoice/ga-IE',\n",
    "    'MozillaCommonVoice/gl',\n",
    "    'MozillaCommonVoice/gn',\n",
    "    'MozillaCommonVoice/hi',\n",
    "    'MozillaCommonVoice/hu',\n",
    "    'MozillaCommonVoice/hy-AM',\n",
    "    'MozillaCommonVoice/id',\n",
    "    'MozillaCommonVoice/ig',\n",
    "    'MozillaCommonVoice/it',\n",
    "    'MozillaCommonVoice/ja',\n",
    "    'MozillaCommonVoice/ka',\n",
    "    'MozillaCommonVoice/kab',\n",
    "    'MozillaCommonVoice/kk',\n",
    "    'MozillaCommonVoice/kmr',\n",
    "    'MozillaCommonVoice/ky',\n",
    "    'MozillaCommonVoice/lg',\n",
    "    'MozillaCommonVoice/lt',\n",
    "    'MozillaCommonVoice/ltg',\n",
    "    'MozillaCommonVoice/lv',\n",
    "    'MozillaCommonVoice/mhr',\n",
    "    'MozillaCommonVoice/ml',\n",
    "    'MozillaCommonVoice/mn',\n",
    "    'MozillaCommonVoice/mt',\n",
    "    'MozillaCommonVoice/nan-tw',\n",
    "    'MozillaCommonVoice/nl',\n",
    "    'MozillaCommonVoice/oc',\n",
    "    'MozillaCommonVoice/or',\n",
    "    'MozillaCommonVoice/pl',\n",
    "    'MozillaCommonVoice/pt',\n",
    "    'MozillaCommonVoice/ro',\n",
    "    'MozillaCommonVoice/ru',\n",
    "    'MozillaCommonVoice/rw',\n",
    "    'MozillaCommonVoice/sr',\n",
    "    'MozillaCommonVoice/sv-SE',\n",
    "    'MozillaCommonVoice/sw',\n",
    "    'MozillaCommonVoice/ta',\n",
    "    'MozillaCommonVoice/th',\n",
    "    'MozillaCommonVoice/tr',\n",
    "    'MozillaCommonVoice/tt',\n",
    "    'MozillaCommonVoice/ug',\n",
    "    'MozillaCommonVoice/uk',\n",
    "    'MozillaCommonVoice/ur',\n",
    "    'MozillaCommonVoice/uz',\n",
    "    'MozillaCommonVoice/vi',\n",
    "    'MozillaCommonVoice/yo',\n",
    "    'MozillaCommonVoice/yue',\n",
    "    'MozillaCommonVoice/zh-CN',\n",
    "    'MozillaCommonVoice/zh-TW',\n",
    "    'primewords_chinese',\n",
    "    'room_reader',\n",
    "    'SpeechClarity',\n",
    "    'TAT-Vol2',\n",
    "    'thchs30',\n",
    "    'TIMIT',\n",
    "    'TTS_Javanese',\n",
    "    'zeroth_korean',]"
   ]
  },
  {
   "cell_type": "code",
   "execution_count": 5,
   "id": "e08b4333-0746-44f5-965b-211eec61823a",
   "metadata": {},
   "outputs": [],
   "source": [
    "import scipy.io as sio\n",
    "import pandas as pd\n",
    "import numpy as np\n",
    "import glob\n",
    "import csv\n",
    "import json\n",
    "\n",
    "\n",
    "def make_meta_file(corpus):\n",
    "    \n",
    "    params_list = glob.glob('STM_output/Survey/speech_params_'+corpus+'/*')\n",
    "    df_list = []\n",
    "\n",
    "    # load the data from the mat file\n",
    "    for params_file in params_list:\n",
    "        # print(params_file)\n",
    "        data_dict = sio.loadmat(params_file)\n",
    "        structure_dict = {field: data_dict['Params'][field][0] for field in data_dict['Params'].dtype.names}\n",
    "        df = pd.DataFrame(structure_dict)\n",
    "        df.drop(columns=['x_axis','y_axis'], inplace=True)\n",
    "        df = df.applymap(lambda x: x[0] if isinstance(x, (list, np.ndarray)) else x)\n",
    "        df = df.applymap(lambda x: x[0] if isinstance(x, (list, np.ndarray)) else x)\n",
    "        df_list.append(df)\n",
    "    \n",
    "    df_all = pd.concat(df_list, ignore_index=True)\n",
    "\n",
    "    # add the speaker ID and gender info\n",
    "    if 'MozillaCommonVoice' in corpus:\n",
    "        valid_df = pd.read_csv('data/speechCorp/'+corpus+'/validated.tsv', sep='\\t', quoting=csv.QUOTE_NONE)\n",
    "        valid_df['path'] = valid_df['path'].str.replace('.mp3', '')\n",
    "        valid_df.rename(columns={'client_id':'speaker/player'}, inplace=True)\n",
    "        df_all = df_all.merge(valid_df[['speaker/player', 'path', 'gender']], how='left', left_on='filename', right_on='path').drop(columns=['path'])\n",
    "    elif 'BibleTTS' in corpus:\n",
    "        df_all['speaker/player'] = 'BibleTTS_' + df_all['filename'].str[:3]\n",
    "        df_all['gender'] = np.nan\n",
    "    elif 'Buckeye' in corpus:\n",
    "        df_all['speaker/player'] = df_all['filename'].str[:3].str.replace('s', 'S')\n",
    "        df_gender = pd.read_csv('data/speechCorp/Buckeye/Buckeye_speaker_info.csv')\n",
    "        df_all = df_all.merge(df_gender[['SPEAKER', \"SPEAKER'S GENDER\"]], how='left', left_on='speaker/player', right_on='SPEAKER').drop(columns=['SPEAKER'])\n",
    "        df_all.rename(columns={\"SPEAKER'S GENDER\":'gender'}, inplace=True)\n",
    "        df_all['speaker/player'] = 'Buckeye_'+df_all['speaker/player']\n",
    "    elif 'EUROM' in corpus:\n",
    "        df_all['speaker/player'] = 'EUROM_' + df_all['LangOrInstru'] +'_'+ df_all['filename'].str[:2]\n",
    "        df_all['gender'] = np.nan\n",
    "    elif 'MediaSpeech' in corpus:\n",
    "        df_all['speaker/player'] = 'MediaSpeech_' + df_all['LangOrInstru'] +'_'+ df_all['filename']\n",
    "        df_all['gender'] = np.nan\n",
    "    elif 'LibriSpeech' in corpus:\n",
    "        split_names = df_all['filename'].str.split('-') # Split the 'name' column by \"-\"\n",
    "        first_parts = split_names.str[0] # Extract the first part of the split result\n",
    "        df_all['speaker/player'] = first_parts # Add the extracted part as a new column in the DataFrame\n",
    "        \n",
    "        ## load LibriSpeech text file\n",
    "        reader_ids = []\n",
    "        genders = []\n",
    "        subsets = []\n",
    "        durations = []\n",
    "        names = []\n",
    "        # Open the file and read line by line\n",
    "        with open('data/speechCorp/LibriSpeech/SPEAKERS.TXT', 'r') as file:\n",
    "            # Skip lines starting with \";\" (comments) until reaching the data\n",
    "            while True:\n",
    "                line = file.readline()\n",
    "                if not line.startswith(';'):\n",
    "                    # Start processing data from this line\n",
    "                    break\n",
    "            \n",
    "            # Read the rest of the lines and parse them\n",
    "            while line:\n",
    "                # Split each line by \"|\" character\n",
    "                data = line.strip().split('|')\n",
    "                # Extract relevant information\n",
    "                reader_ids.append(int(data[0].strip()))\n",
    "                genders.append(data[1].strip())\n",
    "                subsets.append(data[2].strip())\n",
    "                durations.append(float(data[3].strip()))\n",
    "                names.append(data[4].strip())\n",
    "                # Read the next line\n",
    "                line = file.readline()\n",
    "        \n",
    "        # Create a DataFrame using the lists\n",
    "        df_LibriSpeech = pd.DataFrame({'reader_id': reader_ids, 'gender': genders, 'subset': subsets, 'duration': durations, 'name': names})\n",
    "        df_LibriSpeech['reader_id']= df_LibriSpeech['reader_id'].astype(str)\n",
    "        df_all = df_all.merge(df_LibriSpeech[['reader_id', 'gender']], how='left', left_on='speaker/player', right_on='reader_id').drop(columns=['reader_id'])\n",
    "    elif 'primewords_chinese' in corpus:\n",
    "        with open('data/speechCorp/primewords_chinese/set1_transcript.json', 'r') as file:\n",
    "            data = json.load(file)\n",
    "        primewords_df = pd.DataFrame(data)\n",
    "        primewords_df['file'] = primewords_df['file'].str.replace('.wav', '')\n",
    "        df_all = df_all.merge(primewords_df[['file', 'user_id']], how='left', left_on='filename', right_on='file').drop(columns=['file'])\n",
    "        df_all.rename(columns={\"user_id\":'speaker/player'}, inplace=True)\n",
    "        df_all['speaker/player'] = 'primewords_'+df_all['speaker/player']\n",
    "        df_all['gender']=np.nan\n",
    "    elif 'room_reader' in corpus:\n",
    "        split_names = df_all['filename'].str.split('_') # Split the 'name' column by \"-\"\n",
    "        df_all['speaker/player'] = split_names.str[1] # Extract the first part of the split result\n",
    "        RR_df = pd.read_excel('data/speechCorp/room_reader/RoomReader_SessionsEvents.xlsx')\n",
    "        df_all = df_all.merge(RR_df[['part_ID', 'gender']], how='left', left_on='speaker/player', right_on='part_ID').drop(columns=['part_ID'])\n",
    "        df_all['speaker/player'] = 'RoomReader_'+df_all['speaker/player']\n",
    "    elif 'SpeechClarity' in corpus:\n",
    "        df_all['speaker/player'] = 'SpeechClarity_'+df_all['filename'].str[:3]\n",
    "        df_all['gender'] = np.nan\n",
    "    elif 'TAT-Vol2' in corpus:\n",
    "        df_all['speaker/player'] = 'TAT-Vol2_'+df_all['filename'].str[:10]\n",
    "        df_all['gender'] = df_all['filename'].str[5]\n",
    "    elif 'thchs30' in corpus:\n",
    "        split_names = df_all['filename'].str.split('_') # Split the 'name' column by \"-\"\n",
    "        df_all['speaker/player'] = 'thchs30_'+split_names.str[0] # Extract the first part of the split result\n",
    "        df_all['gender'] = np.nan\n",
    "    elif 'TIMIT' in corpus:\n",
    "        split_names = df_all['filepath'].str.split('/') # Split the 'name' column by \"-\"\n",
    "        df_all['speaker/player'] = 'TIMIT_'+split_names.str[-2] # Extract the first part of the split result\n",
    "        df_all['gender'] = df_all['speaker/player'].str[6]\n",
    "    elif 'TTS_Javanese' in corpus:\n",
    "        df_all['speaker/player'] = df_all['filename'].str[:9] \n",
    "        df_all['gender'] = df_all['filename'].str[2]\n",
    "    elif 'zeroth' in corpus:\n",
    "        df_all['speaker/player'] = df_all['filename'].str[:3] \n",
    "        zeroth_df = pd.read_csv('data/speechCorp/zeroth_korean/AUDIO_INFO', sep=\"|\")\n",
    "        zeroth_df['SPEAKERID'] = zeroth_df['SPEAKERID'].astype(str)\n",
    "        df_all = df_all.merge(zeroth_df[['SPEAKERID', 'SEX']], how='left', left_on='speaker/player', right_on='SPEAKERID').drop(columns=['SPEAKERID'])\n",
    "        df_all.rename(columns={\"SEX\":'gender'}, inplace=True)\n",
    "        df_all['speaker/player'] = 'zeroth_'+df_all['speaker/player']\n",
    "\n",
    "\n",
    "    return df_all"
   ]
  },
  {
   "cell_type": "code",
   "execution_count": 6,
   "id": "06b063ee-bd03-4fec-aca9-10155157f6a2",
   "metadata": {},
   "outputs": [
    {
     "name": "stdout",
     "output_type": "stream",
     "text": [
      "BibleTTS/akuapem-twi\n",
      "BibleTTS/asante-twi\n",
      "BibleTTS/ewe\n",
      "BibleTTS/hausa\n",
      "BibleTTS/lingala\n",
      "BibleTTS/yoruba\n",
      "Buckeye\n",
      "EUROM\n",
      "LibriSpeech\n",
      "LibriVox\n",
      "MediaSpeech/AR\n",
      "MediaSpeech/ES\n",
      "MediaSpeech/FR\n",
      "MediaSpeech/TR\n",
      "MozillaCommonVoice/ab\n",
      "MozillaCommonVoice/ar\n"
     ]
    },
    {
     "name": "stderr",
     "output_type": "stream",
     "text": [
      "/var/folders/fw/slnm06yn15lgwlcg_7jpt3t00000gn/T/ipykernel_25335/2737063128.py:29: DtypeWarning: Columns (7,10) have mixed types. Specify dtype option on import or set low_memory=False.\n",
      "  valid_df = pd.read_csv('data/speechCorp/'+corpus+'/validated.tsv', sep='\\t', quoting=csv.QUOTE_NONE)\n"
     ]
    },
    {
     "name": "stdout",
     "output_type": "stream",
     "text": [
      "MozillaCommonVoice/ba\n"
     ]
    },
    {
     "name": "stderr",
     "output_type": "stream",
     "text": [
      "/var/folders/fw/slnm06yn15lgwlcg_7jpt3t00000gn/T/ipykernel_25335/2737063128.py:29: DtypeWarning: Columns (7) have mixed types. Specify dtype option on import or set low_memory=False.\n",
      "  valid_df = pd.read_csv('data/speechCorp/'+corpus+'/validated.tsv', sep='\\t', quoting=csv.QUOTE_NONE)\n"
     ]
    },
    {
     "name": "stdout",
     "output_type": "stream",
     "text": [
      "MozillaCommonVoice/be\n"
     ]
    },
    {
     "name": "stderr",
     "output_type": "stream",
     "text": [
      "/var/folders/fw/slnm06yn15lgwlcg_7jpt3t00000gn/T/ipykernel_25335/2737063128.py:29: DtypeWarning: Columns (5,6,7) have mixed types. Specify dtype option on import or set low_memory=False.\n",
      "  valid_df = pd.read_csv('data/speechCorp/'+corpus+'/validated.tsv', sep='\\t', quoting=csv.QUOTE_NONE)\n"
     ]
    },
    {
     "name": "stdout",
     "output_type": "stream",
     "text": [
      "MozillaCommonVoice/bg\n",
      "MozillaCommonVoice/bn\n",
      "MozillaCommonVoice/br\n",
      "MozillaCommonVoice/ca\n"
     ]
    },
    {
     "name": "stderr",
     "output_type": "stream",
     "text": [
      "/var/folders/fw/slnm06yn15lgwlcg_7jpt3t00000gn/T/ipykernel_25335/2737063128.py:29: DtypeWarning: Columns (8,10) have mixed types. Specify dtype option on import or set low_memory=False.\n",
      "  valid_df = pd.read_csv('data/speechCorp/'+corpus+'/validated.tsv', sep='\\t', quoting=csv.QUOTE_NONE)\n"
     ]
    },
    {
     "name": "stdout",
     "output_type": "stream",
     "text": [
      "MozillaCommonVoice/ckb\n",
      "MozillaCommonVoice/cnh\n",
      "MozillaCommonVoice/cs\n",
      "MozillaCommonVoice/cv\n",
      "MozillaCommonVoice/cy\n",
      "MozillaCommonVoice/da\n",
      "MozillaCommonVoice/de\n"
     ]
    },
    {
     "name": "stderr",
     "output_type": "stream",
     "text": [
      "/var/folders/fw/slnm06yn15lgwlcg_7jpt3t00000gn/T/ipykernel_25335/2737063128.py:29: DtypeWarning: Columns (10) have mixed types. Specify dtype option on import or set low_memory=False.\n",
      "  valid_df = pd.read_csv('data/speechCorp/'+corpus+'/validated.tsv', sep='\\t', quoting=csv.QUOTE_NONE)\n"
     ]
    },
    {
     "name": "stdout",
     "output_type": "stream",
     "text": [
      "MozillaCommonVoice/dv\n",
      "MozillaCommonVoice/el\n",
      "MozillaCommonVoice/en\n"
     ]
    },
    {
     "name": "stderr",
     "output_type": "stream",
     "text": [
      "/var/folders/fw/slnm06yn15lgwlcg_7jpt3t00000gn/T/ipykernel_25335/2737063128.py:29: DtypeWarning: Columns (10) have mixed types. Specify dtype option on import or set low_memory=False.\n",
      "  valid_df = pd.read_csv('data/speechCorp/'+corpus+'/validated.tsv', sep='\\t', quoting=csv.QUOTE_NONE)\n"
     ]
    },
    {
     "name": "stdout",
     "output_type": "stream",
     "text": [
      "MozillaCommonVoice/eo\n"
     ]
    },
    {
     "name": "stderr",
     "output_type": "stream",
     "text": [
      "/var/folders/fw/slnm06yn15lgwlcg_7jpt3t00000gn/T/ipykernel_25335/2737063128.py:29: DtypeWarning: Columns (10) have mixed types. Specify dtype option on import or set low_memory=False.\n",
      "  valid_df = pd.read_csv('data/speechCorp/'+corpus+'/validated.tsv', sep='\\t', quoting=csv.QUOTE_NONE)\n"
     ]
    },
    {
     "name": "stdout",
     "output_type": "stream",
     "text": [
      "MozillaCommonVoice/es\n"
     ]
    },
    {
     "name": "stderr",
     "output_type": "stream",
     "text": [
      "/var/folders/fw/slnm06yn15lgwlcg_7jpt3t00000gn/T/ipykernel_25335/2737063128.py:29: DtypeWarning: Columns (10) have mixed types. Specify dtype option on import or set low_memory=False.\n",
      "  valid_df = pd.read_csv('data/speechCorp/'+corpus+'/validated.tsv', sep='\\t', quoting=csv.QUOTE_NONE)\n"
     ]
    },
    {
     "name": "stdout",
     "output_type": "stream",
     "text": [
      "MozillaCommonVoice/et\n",
      "MozillaCommonVoice/eu\n",
      "MozillaCommonVoice/fa\n"
     ]
    },
    {
     "name": "stderr",
     "output_type": "stream",
     "text": [
      "/var/folders/fw/slnm06yn15lgwlcg_7jpt3t00000gn/T/ipykernel_25335/2737063128.py:29: DtypeWarning: Columns (7) have mixed types. Specify dtype option on import or set low_memory=False.\n",
      "  valid_df = pd.read_csv('data/speechCorp/'+corpus+'/validated.tsv', sep='\\t', quoting=csv.QUOTE_NONE)\n"
     ]
    },
    {
     "name": "stdout",
     "output_type": "stream",
     "text": [
      "MozillaCommonVoice/fi\n",
      "MozillaCommonVoice/fr\n",
      "MozillaCommonVoice/fy-NL\n",
      "MozillaCommonVoice/ga-IE\n",
      "MozillaCommonVoice/gl\n",
      "MozillaCommonVoice/gn\n",
      "MozillaCommonVoice/hi\n",
      "MozillaCommonVoice/hu\n",
      "MozillaCommonVoice/hy-AM\n",
      "MozillaCommonVoice/id\n",
      "MozillaCommonVoice/ig\n",
      "MozillaCommonVoice/it\n",
      "MozillaCommonVoice/ja\n",
      "MozillaCommonVoice/ka\n"
     ]
    },
    {
     "name": "stderr",
     "output_type": "stream",
     "text": [
      "/var/folders/fw/slnm06yn15lgwlcg_7jpt3t00000gn/T/ipykernel_25335/2737063128.py:29: DtypeWarning: Columns (7) have mixed types. Specify dtype option on import or set low_memory=False.\n",
      "  valid_df = pd.read_csv('data/speechCorp/'+corpus+'/validated.tsv', sep='\\t', quoting=csv.QUOTE_NONE)\n"
     ]
    },
    {
     "name": "stdout",
     "output_type": "stream",
     "text": [
      "MozillaCommonVoice/kab\n"
     ]
    },
    {
     "name": "stderr",
     "output_type": "stream",
     "text": [
      "/var/folders/fw/slnm06yn15lgwlcg_7jpt3t00000gn/T/ipykernel_25335/2737063128.py:29: DtypeWarning: Columns (7,10) have mixed types. Specify dtype option on import or set low_memory=False.\n",
      "  valid_df = pd.read_csv('data/speechCorp/'+corpus+'/validated.tsv', sep='\\t', quoting=csv.QUOTE_NONE)\n"
     ]
    },
    {
     "name": "stdout",
     "output_type": "stream",
     "text": [
      "MozillaCommonVoice/kk\n",
      "MozillaCommonVoice/kmr\n",
      "MozillaCommonVoice/ky\n",
      "MozillaCommonVoice/lg\n"
     ]
    },
    {
     "name": "stderr",
     "output_type": "stream",
     "text": [
      "/var/folders/fw/slnm06yn15lgwlcg_7jpt3t00000gn/T/ipykernel_25335/2737063128.py:29: DtypeWarning: Columns (10) have mixed types. Specify dtype option on import or set low_memory=False.\n",
      "  valid_df = pd.read_csv('data/speechCorp/'+corpus+'/validated.tsv', sep='\\t', quoting=csv.QUOTE_NONE)\n"
     ]
    },
    {
     "name": "stdout",
     "output_type": "stream",
     "text": [
      "MozillaCommonVoice/lt\n",
      "MozillaCommonVoice/ltg\n",
      "MozillaCommonVoice/lv\n",
      "MozillaCommonVoice/mhr\n"
     ]
    },
    {
     "name": "stderr",
     "output_type": "stream",
     "text": [
      "/var/folders/fw/slnm06yn15lgwlcg_7jpt3t00000gn/T/ipykernel_25335/2737063128.py:29: DtypeWarning: Columns (7) have mixed types. Specify dtype option on import or set low_memory=False.\n",
      "  valid_df = pd.read_csv('data/speechCorp/'+corpus+'/validated.tsv', sep='\\t', quoting=csv.QUOTE_NONE)\n"
     ]
    },
    {
     "name": "stdout",
     "output_type": "stream",
     "text": [
      "MozillaCommonVoice/ml\n",
      "MozillaCommonVoice/mn\n",
      "MozillaCommonVoice/mt\n",
      "MozillaCommonVoice/nan-tw\n",
      "MozillaCommonVoice/nl\n",
      "MozillaCommonVoice/oc\n",
      "MozillaCommonVoice/or\n",
      "MozillaCommonVoice/pl\n"
     ]
    },
    {
     "name": "stderr",
     "output_type": "stream",
     "text": [
      "/var/folders/fw/slnm06yn15lgwlcg_7jpt3t00000gn/T/ipykernel_25335/2737063128.py:29: DtypeWarning: Columns (7) have mixed types. Specify dtype option on import or set low_memory=False.\n",
      "  valid_df = pd.read_csv('data/speechCorp/'+corpus+'/validated.tsv', sep='\\t', quoting=csv.QUOTE_NONE)\n"
     ]
    },
    {
     "name": "stdout",
     "output_type": "stream",
     "text": [
      "MozillaCommonVoice/pt\n"
     ]
    },
    {
     "name": "stderr",
     "output_type": "stream",
     "text": [
      "/var/folders/fw/slnm06yn15lgwlcg_7jpt3t00000gn/T/ipykernel_25335/2737063128.py:29: DtypeWarning: Columns (10) have mixed types. Specify dtype option on import or set low_memory=False.\n",
      "  valid_df = pd.read_csv('data/speechCorp/'+corpus+'/validated.tsv', sep='\\t', quoting=csv.QUOTE_NONE)\n"
     ]
    },
    {
     "name": "stdout",
     "output_type": "stream",
     "text": [
      "MozillaCommonVoice/ro\n",
      "MozillaCommonVoice/ru\n",
      "MozillaCommonVoice/rw\n"
     ]
    },
    {
     "name": "stderr",
     "output_type": "stream",
     "text": [
      "/var/folders/fw/slnm06yn15lgwlcg_7jpt3t00000gn/T/ipykernel_25335/2737063128.py:29: DtypeWarning: Columns (10) have mixed types. Specify dtype option on import or set low_memory=False.\n",
      "  valid_df = pd.read_csv('data/speechCorp/'+corpus+'/validated.tsv', sep='\\t', quoting=csv.QUOTE_NONE)\n"
     ]
    },
    {
     "name": "stdout",
     "output_type": "stream",
     "text": [
      "MozillaCommonVoice/sr\n",
      "MozillaCommonVoice/sv-SE\n",
      "MozillaCommonVoice/sw\n"
     ]
    },
    {
     "name": "stderr",
     "output_type": "stream",
     "text": [
      "/var/folders/fw/slnm06yn15lgwlcg_7jpt3t00000gn/T/ipykernel_25335/2737063128.py:29: DtypeWarning: Columns (7,8) have mixed types. Specify dtype option on import or set low_memory=False.\n",
      "  valid_df = pd.read_csv('data/speechCorp/'+corpus+'/validated.tsv', sep='\\t', quoting=csv.QUOTE_NONE)\n"
     ]
    },
    {
     "name": "stdout",
     "output_type": "stream",
     "text": [
      "MozillaCommonVoice/ta\n"
     ]
    },
    {
     "name": "stderr",
     "output_type": "stream",
     "text": [
      "/var/folders/fw/slnm06yn15lgwlcg_7jpt3t00000gn/T/ipykernel_25335/2737063128.py:29: DtypeWarning: Columns (5,6,7,10) have mixed types. Specify dtype option on import or set low_memory=False.\n",
      "  valid_df = pd.read_csv('data/speechCorp/'+corpus+'/validated.tsv', sep='\\t', quoting=csv.QUOTE_NONE)\n"
     ]
    },
    {
     "name": "stdout",
     "output_type": "stream",
     "text": [
      "MozillaCommonVoice/th\n"
     ]
    },
    {
     "name": "stderr",
     "output_type": "stream",
     "text": [
      "/var/folders/fw/slnm06yn15lgwlcg_7jpt3t00000gn/T/ipykernel_25335/2737063128.py:29: DtypeWarning: Columns (7,10) have mixed types. Specify dtype option on import or set low_memory=False.\n",
      "  valid_df = pd.read_csv('data/speechCorp/'+corpus+'/validated.tsv', sep='\\t', quoting=csv.QUOTE_NONE)\n"
     ]
    },
    {
     "name": "stdout",
     "output_type": "stream",
     "text": [
      "MozillaCommonVoice/tr\n"
     ]
    },
    {
     "name": "stderr",
     "output_type": "stream",
     "text": [
      "/var/folders/fw/slnm06yn15lgwlcg_7jpt3t00000gn/T/ipykernel_25335/2737063128.py:29: DtypeWarning: Columns (10) have mixed types. Specify dtype option on import or set low_memory=False.\n",
      "  valid_df = pd.read_csv('data/speechCorp/'+corpus+'/validated.tsv', sep='\\t', quoting=csv.QUOTE_NONE)\n"
     ]
    },
    {
     "name": "stdout",
     "output_type": "stream",
     "text": [
      "MozillaCommonVoice/tt\n",
      "MozillaCommonVoice/ug\n",
      "MozillaCommonVoice/uk\n"
     ]
    },
    {
     "name": "stderr",
     "output_type": "stream",
     "text": [
      "/var/folders/fw/slnm06yn15lgwlcg_7jpt3t00000gn/T/ipykernel_25335/2737063128.py:29: DtypeWarning: Columns (7) have mixed types. Specify dtype option on import or set low_memory=False.\n",
      "  valid_df = pd.read_csv('data/speechCorp/'+corpus+'/validated.tsv', sep='\\t', quoting=csv.QUOTE_NONE)\n"
     ]
    },
    {
     "name": "stdout",
     "output_type": "stream",
     "text": [
      "MozillaCommonVoice/ur\n",
      "MozillaCommonVoice/uz\n"
     ]
    },
    {
     "name": "stderr",
     "output_type": "stream",
     "text": [
      "/var/folders/fw/slnm06yn15lgwlcg_7jpt3t00000gn/T/ipykernel_25335/2737063128.py:29: DtypeWarning: Columns (7) have mixed types. Specify dtype option on import or set low_memory=False.\n",
      "  valid_df = pd.read_csv('data/speechCorp/'+corpus+'/validated.tsv', sep='\\t', quoting=csv.QUOTE_NONE)\n"
     ]
    },
    {
     "name": "stdout",
     "output_type": "stream",
     "text": [
      "MozillaCommonVoice/vi\n",
      "MozillaCommonVoice/yo\n",
      "MozillaCommonVoice/yue\n",
      "MozillaCommonVoice/zh-CN\n",
      "MozillaCommonVoice/zh-TW\n"
     ]
    },
    {
     "name": "stderr",
     "output_type": "stream",
     "text": [
      "/var/folders/fw/slnm06yn15lgwlcg_7jpt3t00000gn/T/ipykernel_25335/2737063128.py:29: DtypeWarning: Columns (10) have mixed types. Specify dtype option on import or set low_memory=False.\n",
      "  valid_df = pd.read_csv('data/speechCorp/'+corpus+'/validated.tsv', sep='\\t', quoting=csv.QUOTE_NONE)\n"
     ]
    },
    {
     "name": "stdout",
     "output_type": "stream",
     "text": [
      "primewords_chinese\n",
      "room_reader\n",
      "SpeechClarity\n",
      "TAT-Vol2\n",
      "thchs30\n",
      "TIMIT\n",
      "TTS_Javanese\n",
      "zeroth_korean\n"
     ]
    }
   ],
   "source": [
    "for corpus in corpus_list:\n",
    "    print(corpus)\n",
    "    df_all = make_meta_file(corpus)\n",
    "    df_all.to_csv('STM_output/STM_metaData/metaData_'+corpus.replace('/', '-')+'.csv')\n"
   ]
  },
  {
   "cell_type": "markdown",
   "id": "f295980b-a992-4c42-ae75-47b86cb79421",
   "metadata": {},
   "source": [
    "## test code ##"
   ]
  },
  {
   "cell_type": "code",
   "execution_count": null,
   "id": "81fae7b4-97aa-40b6-86af-fd108f2c74ef",
   "metadata": {},
   "outputs": [],
   "source": []
  }
 ],
 "metadata": {
  "kernelspec": {
   "display_name": "Python 3 (ipykernel)",
   "language": "python",
   "name": "python3"
  },
  "language_info": {
   "codemirror_mode": {
    "name": "ipython",
    "version": 3
   },
   "file_extension": ".py",
   "mimetype": "text/x-python",
   "name": "python",
   "nbconvert_exporter": "python",
   "pygments_lexer": "ipython3",
   "version": "3.8.18"
  }
 },
 "nbformat": 4,
 "nbformat_minor": 5
}
