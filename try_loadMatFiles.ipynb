{
 "cells": [
  {
   "cell_type": "code",
   "execution_count": 1,
   "id": "8f60ea05-8fff-4a1e-9be1-d4b72d224779",
   "metadata": {},
   "outputs": [],
   "source": [
    "import mat73\n",
    "data_dict = mat73.loadmat('/Users/andrewchang/NYU_research/MusicSpeech-STM/results/MATs/music_mat_wl4_Albouy2020Science/English_S01_M01_MS2024.mat')\n"
   ]
  },
  {
   "cell_type": "code",
   "execution_count": 6,
   "id": "9cbf0725-9ec9-4853-ba29-ee9f3e6323ec",
   "metadata": {},
   "outputs": [
    {
     "data": {
      "text/plain": [
       "(150, 500)"
      ]
     },
     "execution_count": 6,
     "metadata": {},
     "output_type": "execute_result"
    }
   ],
   "source": [
    "data_dict['indMS'].shape"
   ]
  },
  {
   "cell_type": "code",
   "execution_count": 7,
   "id": "b1732c80-9dc9-4249-b849-b792cfcc21a5",
   "metadata": {},
   "outputs": [],
   "source": [
    "param_dict = mat73.loadmat('/Users/andrewchang/NYU_research/MusicSpeech-STM/results/Survey/music_params_Albouy2020Science/English_S01_M01_Params.mat')\n"
   ]
  },
  {
   "cell_type": "code",
   "execution_count": 12,
   "id": "49e9ec2b-e79d-4bf4-8585-8c0414ebc6d3",
   "metadata": {},
   "outputs": [
    {
     "data": {
      "text/plain": [
       "(150,)"
      ]
     },
     "execution_count": 12,
     "metadata": {},
     "output_type": "execute_result"
    }
   ],
   "source": [
    "param_dict['Params']['y_axis'].shape"
   ]
  },
  {
   "cell_type": "code",
   "execution_count": null,
   "id": "6fd9984b-a330-4110-826d-6896c972e169",
   "metadata": {},
   "outputs": [],
   "source": []
  }
 ],
 "metadata": {
  "kernelspec": {
   "display_name": "Python 3 (ipykernel)",
   "language": "python",
   "name": "python3"
  },
  "language_info": {
   "codemirror_mode": {
    "name": "ipython",
    "version": 3
   },
   "file_extension": ".py",
   "mimetype": "text/x-python",
   "name": "python",
   "nbconvert_exporter": "python",
   "pygments_lexer": "ipython3",
   "version": "3.8.18"
  }
 },
 "nbformat": 4,
 "nbformat_minor": 5
}
