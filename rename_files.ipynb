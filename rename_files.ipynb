{
 "cells": [
  {
   "cell_type": "code",
   "execution_count": 1,
   "id": "770973fe-a421-4841-80c3-dd5566cdc4c9",
   "metadata": {},
   "outputs": [],
   "source": [
    "import os\n",
    "\n",
    "def rename_files_with_subfolder(path):\n",
    "    # Iterate through each subfolder\n",
    "    for foldername in os.listdir(path):\n",
    "        folderpath = os.path.join(path, foldername)\n",
    "        \n",
    "        # Check if it's a directory\n",
    "        if os.path.isdir(folderpath):\n",
    "            # Iterate through each file in the subfolder\n",
    "            for filename in os.listdir(folderpath):\n",
    "                old_filepath = os.path.join(folderpath, filename)\n",
    "                # New filename with subfolder prefix\n",
    "                new_filename = f\"{foldername}_{filename}\"\n",
    "                new_filepath = os.path.join(folderpath, new_filename)\n",
    "                # Rename the file\n",
    "                os.rename(old_filepath, new_filepath)\n",
    "\n",
    "# Provide the path to the 'condenser' folder\n",
    "condenser_path = '/Users/andrewchang/NYU_research/MusicSpeech-STM/data/speechCorp/TAT-Vol2/condenser2'\n",
    "\n",
    "# Call the function to rename files\n",
    "rename_files_with_subfolder(condenser_path)"
   ]
  },
  {
   "cell_type": "code",
   "execution_count": null,
   "id": "2ffe7d21-6276-4308-96c4-d7c84dae8942",
   "metadata": {},
   "outputs": [],
   "source": []
  }
 ],
 "metadata": {
  "kernelspec": {
   "display_name": "Python 3 (ipykernel)",
   "language": "python",
   "name": "python3"
  },
  "language_info": {
   "codemirror_mode": {
    "name": "ipython",
    "version": 3
   },
   "file_extension": ".py",
   "mimetype": "text/x-python",
   "name": "python",
   "nbconvert_exporter": "python",
   "pygments_lexer": "ipython3",
   "version": "3.8.18"
  }
 },
 "nbformat": 4,
 "nbformat_minor": 5
}
