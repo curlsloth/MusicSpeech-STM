{
 "cells": [
  {
   "cell_type": "code",
   "execution_count": 1,
   "id": "963a989e-6e6e-413c-b02a-a65855f0973a",
   "metadata": {},
   "outputs": [],
   "source": [
    "def delete_short_audio_files(directory_path):\n",
    "    import csv\n",
    "    import os\n",
    "    import pandas as pd\n",
    "    import random\n",
    "    from random import sample \n",
    "    \"\"\"Deletes audio files shorter than 4 seconds in a directory.\n",
    "    \n",
    "    Args:\n",
    "    directory_path: The path to the directory containing audio files.\n",
    "    \"\"\"\n",
    "    # Get all audio files with the specified extension (default: wav)\n",
    "    for foldername, subfolders, filenames in os.walk(directory_path):\n",
    "        validated_list = list(pd.read_csv(os.path.join(directory_path, \"validated.tsv\"), sep='\\t', quoting=csv.QUOTE_NONE)['path']) # audio in the validation list\n",
    "        duration_df = pd.read_csv(os.path.join(directory_path, \"clip_durations.tsv\"), sep='\\t', quoting=csv.QUOTE_NONE)\n",
    "        duration_long_list = list(duration_df[duration_df['duration[ms]']>4000]['clip']) # audio length longer than 4000 ms\n",
    "        good_list = list(set(validated_list) & set(duration_long_list)) # their intersection\n",
    "\n",
    "        # random sample max 10,000 files per language\n",
    "        \n",
    "        random.seed(10) # 10, don't change\n",
    "        sample_size = 10000\n",
    "        savename_STM_sampled_audio = os.path.join(directory_path, \"STM_sampled_audio.csv\")\n",
    "        if not os.path.isfile(savename_STM_sampled_audio):\n",
    "            if len(good_list)>sample_size:\n",
    "                good_sample = sample(good_list,sample_size)\n",
    "            else:\n",
    "                good_sample = good_list\n",
    "            pd.DataFrame(good_sample, columns=['filename']).to_csv(savename_STM_sampled_audio)\n",
    "        else:\n",
    "            good_sample = list(pd.read_csv(savename_STM_sampled_audio)['filename'])\n",
    "\n",
    "        # delete files\n",
    "        for filename in filenames:\n",
    "            if filename.lower().endswith(\".mp3\"):\n",
    "                file_path = os.path.join(foldername, filename)\n",
    "                if not filename in good_sample:\n",
    "                    # print(file_path)\n",
    "                    os.remove(file_path) "
   ]
  },
  {
   "cell_type": "code",
   "execution_count": 2,
   "id": "864713c0-040b-4a7e-9640-d7d545da677c",
   "metadata": {},
   "outputs": [
    {
     "name": "stdout",
     "output_type": "stream",
     "text": [
      "data/speechCorp/MozillaCommonVoice/ur\n",
      "data/speechCorp/MozillaCommonVoice/fy-NL\n",
      "data/speechCorp/MozillaCommonVoice/kmr\n",
      "data/speechCorp/MozillaCommonVoice/tok\n",
      "data/speechCorp/MozillaCommonVoice/sw\n"
     ]
    },
    {
     "name": "stderr",
     "output_type": "stream",
     "text": [
      "/var/folders/fw/slnm06yn15lgwlcg_7jpt3t00000gn/T/ipykernel_2231/2445058420.py:14: DtypeWarning: Columns (7,8) have mixed types. Specify dtype option on import or set low_memory=False.\n",
      "  validated_list = list(pd.read_csv(os.path.join(directory_path, \"validated.tsv\"), sep='\\t', quoting=csv.QUOTE_NONE)['path']) # audio in the validation list\n",
      "/var/folders/fw/slnm06yn15lgwlcg_7jpt3t00000gn/T/ipykernel_2231/2445058420.py:14: DtypeWarning: Columns (7,8) have mixed types. Specify dtype option on import or set low_memory=False.\n",
      "  validated_list = list(pd.read_csv(os.path.join(directory_path, \"validated.tsv\"), sep='\\t', quoting=csv.QUOTE_NONE)['path']) # audio in the validation list\n"
     ]
    },
    {
     "name": "stdout",
     "output_type": "stream",
     "text": [
      "data/speechCorp/MozillaCommonVoice/kab\n"
     ]
    },
    {
     "name": "stderr",
     "output_type": "stream",
     "text": [
      "/var/folders/fw/slnm06yn15lgwlcg_7jpt3t00000gn/T/ipykernel_2231/2445058420.py:14: DtypeWarning: Columns (7,10) have mixed types. Specify dtype option on import or set low_memory=False.\n",
      "  validated_list = list(pd.read_csv(os.path.join(directory_path, \"validated.tsv\"), sep='\\t', quoting=csv.QUOTE_NONE)['path']) # audio in the validation list\n",
      "/var/folders/fw/slnm06yn15lgwlcg_7jpt3t00000gn/T/ipykernel_2231/2445058420.py:14: DtypeWarning: Columns (7,10) have mixed types. Specify dtype option on import or set low_memory=False.\n",
      "  validated_list = list(pd.read_csv(os.path.join(directory_path, \"validated.tsv\"), sep='\\t', quoting=csv.QUOTE_NONE)['path']) # audio in the validation list\n"
     ]
    },
    {
     "name": "stdout",
     "output_type": "stream",
     "text": [
      "data/speechCorp/MozillaCommonVoice/ug\n",
      "data/speechCorp/MozillaCommonVoice/uz\n"
     ]
    },
    {
     "name": "stderr",
     "output_type": "stream",
     "text": [
      "/var/folders/fw/slnm06yn15lgwlcg_7jpt3t00000gn/T/ipykernel_2231/2445058420.py:14: DtypeWarning: Columns (7) have mixed types. Specify dtype option on import or set low_memory=False.\n",
      "  validated_list = list(pd.read_csv(os.path.join(directory_path, \"validated.tsv\"), sep='\\t', quoting=csv.QUOTE_NONE)['path']) # audio in the validation list\n",
      "/var/folders/fw/slnm06yn15lgwlcg_7jpt3t00000gn/T/ipykernel_2231/2445058420.py:14: DtypeWarning: Columns (7) have mixed types. Specify dtype option on import or set low_memory=False.\n",
      "  validated_list = list(pd.read_csv(os.path.join(directory_path, \"validated.tsv\"), sep='\\t', quoting=csv.QUOTE_NONE)['path']) # audio in the validation list\n"
     ]
    },
    {
     "name": "stdout",
     "output_type": "stream",
     "text": [
      "data/speechCorp/MozillaCommonVoice/mhr\n"
     ]
    },
    {
     "name": "stderr",
     "output_type": "stream",
     "text": [
      "/var/folders/fw/slnm06yn15lgwlcg_7jpt3t00000gn/T/ipykernel_2231/2445058420.py:14: DtypeWarning: Columns (7) have mixed types. Specify dtype option on import or set low_memory=False.\n",
      "  validated_list = list(pd.read_csv(os.path.join(directory_path, \"validated.tsv\"), sep='\\t', quoting=csv.QUOTE_NONE)['path']) # audio in the validation list\n",
      "/var/folders/fw/slnm06yn15lgwlcg_7jpt3t00000gn/T/ipykernel_2231/2445058420.py:14: DtypeWarning: Columns (7) have mixed types. Specify dtype option on import or set low_memory=False.\n",
      "  validated_list = list(pd.read_csv(os.path.join(directory_path, \"validated.tsv\"), sep='\\t', quoting=csv.QUOTE_NONE)['path']) # audio in the validation list\n"
     ]
    },
    {
     "name": "stdout",
     "output_type": "stream",
     "text": [
      "data/speechCorp/MozillaCommonVoice/pl\n"
     ]
    },
    {
     "name": "stderr",
     "output_type": "stream",
     "text": [
      "/var/folders/fw/slnm06yn15lgwlcg_7jpt3t00000gn/T/ipykernel_2231/2445058420.py:14: DtypeWarning: Columns (7) have mixed types. Specify dtype option on import or set low_memory=False.\n",
      "  validated_list = list(pd.read_csv(os.path.join(directory_path, \"validated.tsv\"), sep='\\t', quoting=csv.QUOTE_NONE)['path']) # audio in the validation list\n",
      "/var/folders/fw/slnm06yn15lgwlcg_7jpt3t00000gn/T/ipykernel_2231/2445058420.py:14: DtypeWarning: Columns (7) have mixed types. Specify dtype option on import or set low_memory=False.\n",
      "  validated_list = list(pd.read_csv(os.path.join(directory_path, \"validated.tsv\"), sep='\\t', quoting=csv.QUOTE_NONE)['path']) # audio in the validation list\n"
     ]
    },
    {
     "name": "stdout",
     "output_type": "stream",
     "text": [
      "data/speechCorp/MozillaCommonVoice/vi\n",
      "data/speechCorp/MozillaCommonVoice/mt\n",
      "data/speechCorp/MozillaCommonVoice/be\n"
     ]
    },
    {
     "name": "stderr",
     "output_type": "stream",
     "text": [
      "/var/folders/fw/slnm06yn15lgwlcg_7jpt3t00000gn/T/ipykernel_2231/2445058420.py:14: DtypeWarning: Columns (5,6,7) have mixed types. Specify dtype option on import or set low_memory=False.\n",
      "  validated_list = list(pd.read_csv(os.path.join(directory_path, \"validated.tsv\"), sep='\\t', quoting=csv.QUOTE_NONE)['path']) # audio in the validation list\n",
      "/var/folders/fw/slnm06yn15lgwlcg_7jpt3t00000gn/T/ipykernel_2231/2445058420.py:14: DtypeWarning: Columns (5,6,7) have mixed types. Specify dtype option on import or set low_memory=False.\n",
      "  validated_list = list(pd.read_csv(os.path.join(directory_path, \"validated.tsv\"), sep='\\t', quoting=csv.QUOTE_NONE)['path']) # audio in the validation list\n"
     ]
    },
    {
     "name": "stdout",
     "output_type": "stream",
     "text": [
      "data/speechCorp/MozillaCommonVoice/da\n",
      "data/speechCorp/MozillaCommonVoice/gn\n",
      "data/speechCorp/MozillaCommonVoice/kk\n",
      "data/speechCorp/MozillaCommonVoice/ky\n",
      "data/speechCorp/MozillaCommonVoice/mn\n",
      "data/speechCorp/MozillaCommonVoice/ab\n",
      "data/speechCorp/MozillaCommonVoice/ja\n",
      "data/speechCorp/MozillaCommonVoice/el\n",
      "data/speechCorp/MozillaCommonVoice/ig\n",
      "data/speechCorp/MozillaCommonVoice/lv\n",
      "data/speechCorp/MozillaCommonVoice/oc\n",
      "data/speechCorp/MozillaCommonVoice/it\n",
      "data/speechCorp/MozillaCommonVoice/ca\n"
     ]
    },
    {
     "name": "stderr",
     "output_type": "stream",
     "text": [
      "/var/folders/fw/slnm06yn15lgwlcg_7jpt3t00000gn/T/ipykernel_2231/2445058420.py:14: DtypeWarning: Columns (8,10) have mixed types. Specify dtype option on import or set low_memory=False.\n",
      "  validated_list = list(pd.read_csv(os.path.join(directory_path, \"validated.tsv\"), sep='\\t', quoting=csv.QUOTE_NONE)['path']) # audio in the validation list\n",
      "/var/folders/fw/slnm06yn15lgwlcg_7jpt3t00000gn/T/ipykernel_2231/2445058420.py:14: DtypeWarning: Columns (8,10) have mixed types. Specify dtype option on import or set low_memory=False.\n",
      "  validated_list = list(pd.read_csv(os.path.join(directory_path, \"validated.tsv\"), sep='\\t', quoting=csv.QUOTE_NONE)['path']) # audio in the validation list\n"
     ]
    },
    {
     "name": "stdout",
     "output_type": "stream",
     "text": [
      "data/speechCorp/MozillaCommonVoice/cs\n",
      "data/speechCorp/MozillaCommonVoice/ga-IE\n",
      "data/speechCorp/MozillaCommonVoice/ru\n",
      "data/speechCorp/MozillaCommonVoice/hy-AM\n",
      "data/speechCorp/MozillaCommonVoice/ro\n",
      "data/speechCorp/MozillaCommonVoice/cnh\n",
      "data/speechCorp/MozillaCommonVoice/nan-tw\n",
      "data/speechCorp/MozillaCommonVoice/yo\n",
      "data/speechCorp/MozillaCommonVoice/zh-CN\n",
      "data/speechCorp/MozillaCommonVoice/ckb\n",
      "data/speechCorp/MozillaCommonVoice/yue\n",
      "data/speechCorp/MozillaCommonVoice/pt\n"
     ]
    },
    {
     "name": "stderr",
     "output_type": "stream",
     "text": [
      "/var/folders/fw/slnm06yn15lgwlcg_7jpt3t00000gn/T/ipykernel_2231/2445058420.py:14: DtypeWarning: Columns (10) have mixed types. Specify dtype option on import or set low_memory=False.\n",
      "  validated_list = list(pd.read_csv(os.path.join(directory_path, \"validated.tsv\"), sep='\\t', quoting=csv.QUOTE_NONE)['path']) # audio in the validation list\n",
      "/var/folders/fw/slnm06yn15lgwlcg_7jpt3t00000gn/T/ipykernel_2231/2445058420.py:14: DtypeWarning: Columns (10) have mixed types. Specify dtype option on import or set low_memory=False.\n",
      "  validated_list = list(pd.read_csv(os.path.join(directory_path, \"validated.tsv\"), sep='\\t', quoting=csv.QUOTE_NONE)['path']) # audio in the validation list\n"
     ]
    },
    {
     "name": "stdout",
     "output_type": "stream",
     "text": [
      "data/speechCorp/MozillaCommonVoice/uk\n"
     ]
    },
    {
     "name": "stderr",
     "output_type": "stream",
     "text": [
      "/var/folders/fw/slnm06yn15lgwlcg_7jpt3t00000gn/T/ipykernel_2231/2445058420.py:14: DtypeWarning: Columns (7) have mixed types. Specify dtype option on import or set low_memory=False.\n",
      "  validated_list = list(pd.read_csv(os.path.join(directory_path, \"validated.tsv\"), sep='\\t', quoting=csv.QUOTE_NONE)['path']) # audio in the validation list\n",
      "/var/folders/fw/slnm06yn15lgwlcg_7jpt3t00000gn/T/ipykernel_2231/2445058420.py:14: DtypeWarning: Columns (7) have mixed types. Specify dtype option on import or set low_memory=False.\n",
      "  validated_list = list(pd.read_csv(os.path.join(directory_path, \"validated.tsv\"), sep='\\t', quoting=csv.QUOTE_NONE)['path']) # audio in the validation list\n"
     ]
    },
    {
     "name": "stdout",
     "output_type": "stream",
     "text": [
      "data/speechCorp/MozillaCommonVoice/sr\n",
      "data/speechCorp/MozillaCommonVoice/ltg\n",
      "data/speechCorp/MozillaCommonVoice/ml\n",
      "data/speechCorp/MozillaCommonVoice/dv\n",
      "data/speechCorp/MozillaCommonVoice/ba\n"
     ]
    },
    {
     "name": "stderr",
     "output_type": "stream",
     "text": [
      "/var/folders/fw/slnm06yn15lgwlcg_7jpt3t00000gn/T/ipykernel_2231/2445058420.py:14: DtypeWarning: Columns (7) have mixed types. Specify dtype option on import or set low_memory=False.\n",
      "  validated_list = list(pd.read_csv(os.path.join(directory_path, \"validated.tsv\"), sep='\\t', quoting=csv.QUOTE_NONE)['path']) # audio in the validation list\n",
      "/var/folders/fw/slnm06yn15lgwlcg_7jpt3t00000gn/T/ipykernel_2231/2445058420.py:14: DtypeWarning: Columns (7) have mixed types. Specify dtype option on import or set low_memory=False.\n",
      "  validated_list = list(pd.read_csv(os.path.join(directory_path, \"validated.tsv\"), sep='\\t', quoting=csv.QUOTE_NONE)['path']) # audio in the validation list\n"
     ]
    },
    {
     "name": "stdout",
     "output_type": "stream",
     "text": [
      "data/speechCorp/MozillaCommonVoice/zh-TW\n"
     ]
    },
    {
     "name": "stderr",
     "output_type": "stream",
     "text": [
      "/var/folders/fw/slnm06yn15lgwlcg_7jpt3t00000gn/T/ipykernel_2231/2445058420.py:14: DtypeWarning: Columns (10) have mixed types. Specify dtype option on import or set low_memory=False.\n",
      "  validated_list = list(pd.read_csv(os.path.join(directory_path, \"validated.tsv\"), sep='\\t', quoting=csv.QUOTE_NONE)['path']) # audio in the validation list\n",
      "/var/folders/fw/slnm06yn15lgwlcg_7jpt3t00000gn/T/ipykernel_2231/2445058420.py:14: DtypeWarning: Columns (10) have mixed types. Specify dtype option on import or set low_memory=False.\n",
      "  validated_list = list(pd.read_csv(os.path.join(directory_path, \"validated.tsv\"), sep='\\t', quoting=csv.QUOTE_NONE)['path']) # audio in the validation list\n"
     ]
    },
    {
     "name": "stdout",
     "output_type": "stream",
     "text": [
      "data/speechCorp/MozillaCommonVoice/ar\n"
     ]
    },
    {
     "name": "stderr",
     "output_type": "stream",
     "text": [
      "/var/folders/fw/slnm06yn15lgwlcg_7jpt3t00000gn/T/ipykernel_2231/2445058420.py:14: DtypeWarning: Columns (7,10) have mixed types. Specify dtype option on import or set low_memory=False.\n",
      "  validated_list = list(pd.read_csv(os.path.join(directory_path, \"validated.tsv\"), sep='\\t', quoting=csv.QUOTE_NONE)['path']) # audio in the validation list\n",
      "/var/folders/fw/slnm06yn15lgwlcg_7jpt3t00000gn/T/ipykernel_2231/2445058420.py:14: DtypeWarning: Columns (7,10) have mixed types. Specify dtype option on import or set low_memory=False.\n",
      "  validated_list = list(pd.read_csv(os.path.join(directory_path, \"validated.tsv\"), sep='\\t', quoting=csv.QUOTE_NONE)['path']) # audio in the validation list\n"
     ]
    },
    {
     "name": "stdout",
     "output_type": "stream",
     "text": [
      "data/speechCorp/MozillaCommonVoice/gl\n",
      "data/speechCorp/MozillaCommonVoice/hu\n",
      "data/speechCorp/MozillaCommonVoice/nl\n",
      "data/speechCorp/MozillaCommonVoice/bg\n",
      "data/speechCorp/MozillaCommonVoice/bn\n",
      "data/speechCorp/MozillaCommonVoice/hi\n",
      "data/speechCorp/MozillaCommonVoice/ka\n"
     ]
    },
    {
     "name": "stderr",
     "output_type": "stream",
     "text": [
      "/var/folders/fw/slnm06yn15lgwlcg_7jpt3t00000gn/T/ipykernel_2231/2445058420.py:14: DtypeWarning: Columns (7) have mixed types. Specify dtype option on import or set low_memory=False.\n",
      "  validated_list = list(pd.read_csv(os.path.join(directory_path, \"validated.tsv\"), sep='\\t', quoting=csv.QUOTE_NONE)['path']) # audio in the validation list\n",
      "/var/folders/fw/slnm06yn15lgwlcg_7jpt3t00000gn/T/ipykernel_2231/2445058420.py:14: DtypeWarning: Columns (7) have mixed types. Specify dtype option on import or set low_memory=False.\n",
      "  validated_list = list(pd.read_csv(os.path.join(directory_path, \"validated.tsv\"), sep='\\t', quoting=csv.QUOTE_NONE)['path']) # audio in the validation list\n"
     ]
    },
    {
     "name": "stdout",
     "output_type": "stream",
     "text": [
      "data/speechCorp/MozillaCommonVoice/de\n"
     ]
    },
    {
     "name": "stderr",
     "output_type": "stream",
     "text": [
      "/var/folders/fw/slnm06yn15lgwlcg_7jpt3t00000gn/T/ipykernel_2231/2445058420.py:14: DtypeWarning: Columns (10) have mixed types. Specify dtype option on import or set low_memory=False.\n",
      "  validated_list = list(pd.read_csv(os.path.join(directory_path, \"validated.tsv\"), sep='\\t', quoting=csv.QUOTE_NONE)['path']) # audio in the validation list\n",
      "/var/folders/fw/slnm06yn15lgwlcg_7jpt3t00000gn/T/ipykernel_2231/2445058420.py:14: DtypeWarning: Columns (10) have mixed types. Specify dtype option on import or set low_memory=False.\n",
      "  validated_list = list(pd.read_csv(os.path.join(directory_path, \"validated.tsv\"), sep='\\t', quoting=csv.QUOTE_NONE)['path']) # audio in the validation list\n"
     ]
    },
    {
     "name": "stdout",
     "output_type": "stream",
     "text": [
      "data/speechCorp/MozillaCommonVoice/br\n",
      "data/speechCorp/MozillaCommonVoice/fi\n",
      "data/speechCorp/MozillaCommonVoice/cv\n",
      "data/speechCorp/MozillaCommonVoice/eo\n"
     ]
    },
    {
     "name": "stderr",
     "output_type": "stream",
     "text": [
      "/var/folders/fw/slnm06yn15lgwlcg_7jpt3t00000gn/T/ipykernel_2231/2445058420.py:14: DtypeWarning: Columns (10) have mixed types. Specify dtype option on import or set low_memory=False.\n",
      "  validated_list = list(pd.read_csv(os.path.join(directory_path, \"validated.tsv\"), sep='\\t', quoting=csv.QUOTE_NONE)['path']) # audio in the validation list\n",
      "/var/folders/fw/slnm06yn15lgwlcg_7jpt3t00000gn/T/ipykernel_2231/2445058420.py:14: DtypeWarning: Columns (10) have mixed types. Specify dtype option on import or set low_memory=False.\n",
      "  validated_list = list(pd.read_csv(os.path.join(directory_path, \"validated.tsv\"), sep='\\t', quoting=csv.QUOTE_NONE)['path']) # audio in the validation list\n"
     ]
    },
    {
     "name": "stdout",
     "output_type": "stream",
     "text": [
      "data/speechCorp/MozillaCommonVoice/id\n",
      "data/speechCorp/MozillaCommonVoice/fr\n",
      "data/speechCorp/MozillaCommonVoice/sv-SE\n",
      "data/speechCorp/MozillaCommonVoice/lg\n"
     ]
    },
    {
     "name": "stderr",
     "output_type": "stream",
     "text": [
      "/var/folders/fw/slnm06yn15lgwlcg_7jpt3t00000gn/T/ipykernel_2231/2445058420.py:14: DtypeWarning: Columns (10) have mixed types. Specify dtype option on import or set low_memory=False.\n",
      "  validated_list = list(pd.read_csv(os.path.join(directory_path, \"validated.tsv\"), sep='\\t', quoting=csv.QUOTE_NONE)['path']) # audio in the validation list\n",
      "/var/folders/fw/slnm06yn15lgwlcg_7jpt3t00000gn/T/ipykernel_2231/2445058420.py:14: DtypeWarning: Columns (10) have mixed types. Specify dtype option on import or set low_memory=False.\n",
      "  validated_list = list(pd.read_csv(os.path.join(directory_path, \"validated.tsv\"), sep='\\t', quoting=csv.QUOTE_NONE)['path']) # audio in the validation list\n"
     ]
    },
    {
     "name": "stdout",
     "output_type": "stream",
     "text": [
      "data/speechCorp/MozillaCommonVoice/es\n"
     ]
    },
    {
     "name": "stderr",
     "output_type": "stream",
     "text": [
      "/var/folders/fw/slnm06yn15lgwlcg_7jpt3t00000gn/T/ipykernel_2231/2445058420.py:14: DtypeWarning: Columns (10) have mixed types. Specify dtype option on import or set low_memory=False.\n",
      "  validated_list = list(pd.read_csv(os.path.join(directory_path, \"validated.tsv\"), sep='\\t', quoting=csv.QUOTE_NONE)['path']) # audio in the validation list\n",
      "/var/folders/fw/slnm06yn15lgwlcg_7jpt3t00000gn/T/ipykernel_2231/2445058420.py:14: DtypeWarning: Columns (10) have mixed types. Specify dtype option on import or set low_memory=False.\n",
      "  validated_list = list(pd.read_csv(os.path.join(directory_path, \"validated.tsv\"), sep='\\t', quoting=csv.QUOTE_NONE)['path']) # audio in the validation list\n"
     ]
    },
    {
     "name": "stdout",
     "output_type": "stream",
     "text": [
      "data/speechCorp/MozillaCommonVoice/et\n",
      "data/speechCorp/MozillaCommonVoice/en\n"
     ]
    },
    {
     "name": "stderr",
     "output_type": "stream",
     "text": [
      "/var/folders/fw/slnm06yn15lgwlcg_7jpt3t00000gn/T/ipykernel_2231/2445058420.py:14: DtypeWarning: Columns (10) have mixed types. Specify dtype option on import or set low_memory=False.\n",
      "  validated_list = list(pd.read_csv(os.path.join(directory_path, \"validated.tsv\"), sep='\\t', quoting=csv.QUOTE_NONE)['path']) # audio in the validation list\n",
      "/var/folders/fw/slnm06yn15lgwlcg_7jpt3t00000gn/T/ipykernel_2231/2445058420.py:14: DtypeWarning: Columns (10) have mixed types. Specify dtype option on import or set low_memory=False.\n",
      "  validated_list = list(pd.read_csv(os.path.join(directory_path, \"validated.tsv\"), sep='\\t', quoting=csv.QUOTE_NONE)['path']) # audio in the validation list\n"
     ]
    },
    {
     "name": "stdout",
     "output_type": "stream",
     "text": [
      "data/speechCorp/MozillaCommonVoice/fa\n"
     ]
    },
    {
     "name": "stderr",
     "output_type": "stream",
     "text": [
      "/var/folders/fw/slnm06yn15lgwlcg_7jpt3t00000gn/T/ipykernel_2231/2445058420.py:14: DtypeWarning: Columns (7) have mixed types. Specify dtype option on import or set low_memory=False.\n",
      "  validated_list = list(pd.read_csv(os.path.join(directory_path, \"validated.tsv\"), sep='\\t', quoting=csv.QUOTE_NONE)['path']) # audio in the validation list\n",
      "/var/folders/fw/slnm06yn15lgwlcg_7jpt3t00000gn/T/ipykernel_2231/2445058420.py:14: DtypeWarning: Columns (7) have mixed types. Specify dtype option on import or set low_memory=False.\n",
      "  validated_list = list(pd.read_csv(os.path.join(directory_path, \"validated.tsv\"), sep='\\t', quoting=csv.QUOTE_NONE)['path']) # audio in the validation list\n"
     ]
    },
    {
     "name": "stdout",
     "output_type": "stream",
     "text": [
      "data/speechCorp/MozillaCommonVoice/lt\n",
      "data/speechCorp/MozillaCommonVoice/or\n",
      "data/speechCorp/MozillaCommonVoice/cy\n",
      "data/speechCorp/MozillaCommonVoice/eu\n",
      "data/speechCorp/MozillaCommonVoice/zh-HK\n"
     ]
    },
    {
     "name": "stderr",
     "output_type": "stream",
     "text": [
      "/var/folders/fw/slnm06yn15lgwlcg_7jpt3t00000gn/T/ipykernel_2231/2445058420.py:14: DtypeWarning: Columns (7) have mixed types. Specify dtype option on import or set low_memory=False.\n",
      "  validated_list = list(pd.read_csv(os.path.join(directory_path, \"validated.tsv\"), sep='\\t', quoting=csv.QUOTE_NONE)['path']) # audio in the validation list\n",
      "/var/folders/fw/slnm06yn15lgwlcg_7jpt3t00000gn/T/ipykernel_2231/2445058420.py:14: DtypeWarning: Columns (7) have mixed types. Specify dtype option on import or set low_memory=False.\n",
      "  validated_list = list(pd.read_csv(os.path.join(directory_path, \"validated.tsv\"), sep='\\t', quoting=csv.QUOTE_NONE)['path']) # audio in the validation list\n"
     ]
    },
    {
     "name": "stdout",
     "output_type": "stream",
     "text": [
      "data/speechCorp/MozillaCommonVoice/tt\n",
      "data/speechCorp/MozillaCommonVoice/ta\n"
     ]
    },
    {
     "name": "stderr",
     "output_type": "stream",
     "text": [
      "/var/folders/fw/slnm06yn15lgwlcg_7jpt3t00000gn/T/ipykernel_2231/2445058420.py:14: DtypeWarning: Columns (5,6,7,10) have mixed types. Specify dtype option on import or set low_memory=False.\n",
      "  validated_list = list(pd.read_csv(os.path.join(directory_path, \"validated.tsv\"), sep='\\t', quoting=csv.QUOTE_NONE)['path']) # audio in the validation list\n",
      "/var/folders/fw/slnm06yn15lgwlcg_7jpt3t00000gn/T/ipykernel_2231/2445058420.py:14: DtypeWarning: Columns (5,6,7,10) have mixed types. Specify dtype option on import or set low_memory=False.\n",
      "  validated_list = list(pd.read_csv(os.path.join(directory_path, \"validated.tsv\"), sep='\\t', quoting=csv.QUOTE_NONE)['path']) # audio in the validation list\n"
     ]
    },
    {
     "name": "stdout",
     "output_type": "stream",
     "text": [
      "data/speechCorp/MozillaCommonVoice/th\n"
     ]
    },
    {
     "name": "stderr",
     "output_type": "stream",
     "text": [
      "/var/folders/fw/slnm06yn15lgwlcg_7jpt3t00000gn/T/ipykernel_2231/2445058420.py:14: DtypeWarning: Columns (7,10) have mixed types. Specify dtype option on import or set low_memory=False.\n",
      "  validated_list = list(pd.read_csv(os.path.join(directory_path, \"validated.tsv\"), sep='\\t', quoting=csv.QUOTE_NONE)['path']) # audio in the validation list\n",
      "/var/folders/fw/slnm06yn15lgwlcg_7jpt3t00000gn/T/ipykernel_2231/2445058420.py:14: DtypeWarning: Columns (7,10) have mixed types. Specify dtype option on import or set low_memory=False.\n",
      "  validated_list = list(pd.read_csv(os.path.join(directory_path, \"validated.tsv\"), sep='\\t', quoting=csv.QUOTE_NONE)['path']) # audio in the validation list\n"
     ]
    },
    {
     "name": "stdout",
     "output_type": "stream",
     "text": [
      "data/speechCorp/MozillaCommonVoice/tr\n"
     ]
    },
    {
     "name": "stderr",
     "output_type": "stream",
     "text": [
      "/var/folders/fw/slnm06yn15lgwlcg_7jpt3t00000gn/T/ipykernel_2231/2445058420.py:14: DtypeWarning: Columns (10) have mixed types. Specify dtype option on import or set low_memory=False.\n",
      "  validated_list = list(pd.read_csv(os.path.join(directory_path, \"validated.tsv\"), sep='\\t', quoting=csv.QUOTE_NONE)['path']) # audio in the validation list\n",
      "/var/folders/fw/slnm06yn15lgwlcg_7jpt3t00000gn/T/ipykernel_2231/2445058420.py:14: DtypeWarning: Columns (10) have mixed types. Specify dtype option on import or set low_memory=False.\n",
      "  validated_list = list(pd.read_csv(os.path.join(directory_path, \"validated.tsv\"), sep='\\t', quoting=csv.QUOTE_NONE)['path']) # audio in the validation list\n"
     ]
    },
    {
     "name": "stdout",
     "output_type": "stream",
     "text": [
      "data/speechCorp/MozillaCommonVoice/rw\n"
     ]
    },
    {
     "name": "stderr",
     "output_type": "stream",
     "text": [
      "/var/folders/fw/slnm06yn15lgwlcg_7jpt3t00000gn/T/ipykernel_2231/2445058420.py:14: DtypeWarning: Columns (10) have mixed types. Specify dtype option on import or set low_memory=False.\n",
      "  validated_list = list(pd.read_csv(os.path.join(directory_path, \"validated.tsv\"), sep='\\t', quoting=csv.QUOTE_NONE)['path']) # audio in the validation list\n",
      "/var/folders/fw/slnm06yn15lgwlcg_7jpt3t00000gn/T/ipykernel_2231/2445058420.py:14: DtypeWarning: Columns (10) have mixed types. Specify dtype option on import or set low_memory=False.\n",
      "  validated_list = list(pd.read_csv(os.path.join(directory_path, \"validated.tsv\"), sep='\\t', quoting=csv.QUOTE_NONE)['path']) # audio in the validation list\n"
     ]
    }
   ],
   "source": [
    "import os\n",
    "\n",
    "root_folder = 'data/speechCorp/MozillaCommonVoice/'\n",
    "all_items = os.listdir(root_folder)\n",
    "\n",
    "# Filter out only the subfolders\n",
    "subfolders = [item for item in all_items if os.path.isdir(os.path.join(root_folder, item))]\n",
    "\n",
    "# Print the names of all subfolders\n",
    "for subfolder in subfolders:\n",
    "    subfolder_path = os.path.join(root_folder, subfolder)\n",
    "    print(subfolder_path)\n",
    "    delete_short_audio_files(subfolder_path)"
   ]
  },
  {
   "cell_type": "code",
   "execution_count": null,
   "id": "d9502462-79fc-4bf7-88ef-df47722071fa",
   "metadata": {},
   "outputs": [],
   "source": []
  }
 ],
 "metadata": {
  "kernelspec": {
   "display_name": "Python 3 (ipykernel)",
   "language": "python",
   "name": "python3"
  },
  "language_info": {
   "codemirror_mode": {
    "name": "ipython",
    "version": 3
   },
   "file_extension": ".py",
   "mimetype": "text/x-python",
   "name": "python",
   "nbconvert_exporter": "python",
   "pygments_lexer": "ipython3",
   "version": "3.8.18"
  }
 },
 "nbformat": 4,
 "nbformat_minor": 5
}
