{
 "cells": [
  {
   "cell_type": "code",
   "execution_count": 1,
   "id": "963a989e-6e6e-413c-b02a-a65855f0973a",
   "metadata": {},
   "outputs": [],
   "source": [
    "import csv\n",
    "import os\n",
    "import pandas as pd\n",
    "def delete_short_audio_files(directory_path):\n",
    "  \"\"\"Deletes audio files shorter than 4 seconds in a directory.\n",
    "\n",
    "  Args:\n",
    "    directory_path: The path to the directory containing audio files.\n",
    "  \"\"\"\n",
    "    # Get all audio files with the specified extension (default: wav)\n",
    "  for foldername, subfolders, filenames in os.walk(directory_path):\n",
    "    validated_list = list(pd.read_csv(os.path.join(directory_path, \"validated.tsv\"), sep='\\t', quoting=csv.QUOTE_NONE)['path']) # audio in the validation list\n",
    "    duration_df = pd.read_csv(os.path.join(directory_path, \"clip_durations.tsv\"), sep='\\t', quoting=csv.QUOTE_NONE)\n",
    "    duration_long_list = list(duration_df[duration_df['duration[ms]']>4000]['clip']) # audio length longer than 4000 ms\n",
    "    good_list = list(set(validated_list) & set(duration_long_list)) # their intersection\n",
    "      \n",
    "    for filename in filenames:\n",
    "      if filename.lower().endswith(\".mp3\"):\n",
    "        file_path = os.path.join(foldername, filename)\n",
    "        if not filename in good_list:\n",
    "            # print(file_path)\n",
    "            os.remove(file_path)"
   ]
  },
  {
   "cell_type": "code",
   "execution_count": null,
   "id": "864713c0-040b-4a7e-9640-d7d545da677c",
   "metadata": {},
   "outputs": [
    {
     "name": "stdout",
     "output_type": "stream",
     "text": [
      "data/speechCorp/cv-corpus-16.1-2023-12-06/fy-NL\n",
      "data/speechCorp/cv-corpus-16.1-2023-12-06/fy-NL\n",
      "data/speechCorp/cv-corpus-16.1-2023-12-06/fy-NL/clips\n",
      "data/speechCorp/cv-corpus-16.1-2023-12-06/be\n",
      "data/speechCorp/cv-corpus-16.1-2023-12-06/be\n"
     ]
    },
    {
     "name": "stderr",
     "output_type": "stream",
     "text": [
      "/var/folders/fw/slnm06yn15lgwlcg_7jpt3t00000gn/T/ipykernel_20391/603203113.py:13: DtypeWarning: Columns (5,6,7) have mixed types. Specify dtype option on import or set low_memory=False.\n",
      "  validated_list = list(pd.read_csv(os.path.join(directory_path, \"validated.tsv\"), sep='\\t', quoting=csv.QUOTE_NONE)['path'])\n"
     ]
    },
    {
     "name": "stdout",
     "output_type": "stream",
     "text": [
      "data/speechCorp/cv-corpus-16.1-2023-12-06/be/clips\n"
     ]
    },
    {
     "name": "stderr",
     "output_type": "stream",
     "text": [
      "/var/folders/fw/slnm06yn15lgwlcg_7jpt3t00000gn/T/ipykernel_20391/603203113.py:13: DtypeWarning: Columns (5,6,7) have mixed types. Specify dtype option on import or set low_memory=False.\n",
      "  validated_list = list(pd.read_csv(os.path.join(directory_path, \"validated.tsv\"), sep='\\t', quoting=csv.QUOTE_NONE)['path'])\n"
     ]
    }
   ],
   "source": [
    "root_folder = 'data/speechCorp/cv-corpus-16.1-2023-12-06/'\n",
    "all_items = os.listdir(root_folder)\n",
    "\n",
    "# Filter out only the subfolders\n",
    "subfolders = [item for item in all_items if os.path.isdir(os.path.join(root_folder, item))]\n",
    "\n",
    "# Print the names of all subfolders\n",
    "for subfolder in subfolders:\n",
    "    subfolder_path = os.path.join(root_folder, subfolder)\n",
    "    print(subfolder_path)\n",
    "    delete_short_audio_files(subfolder_path)"
   ]
  },
  {
   "cell_type": "code",
   "execution_count": null,
   "id": "86d867f5-0c03-4660-8bf2-e7e167ed864c",
   "metadata": {},
   "outputs": [],
   "source": []
  }
 ],
 "metadata": {
  "kernelspec": {
   "display_name": "Python 3 (ipykernel)",
   "language": "python",
   "name": "python3"
  },
  "language_info": {
   "codemirror_mode": {
    "name": "ipython",
    "version": 3
   },
   "file_extension": ".py",
   "mimetype": "text/x-python",
   "name": "python",
   "nbconvert_exporter": "python",
   "pygments_lexer": "ipython3",
   "version": "3.8.18"
  }
 },
 "nbformat": 4,
 "nbformat_minor": 5
}
