{
 "cells": [
  {
   "cell_type": "code",
   "execution_count": 1,
   "id": "963a989e-6e6e-413c-b02a-a65855f0973a",
   "metadata": {},
   "outputs": [],
   "source": [
    "def delete_short_audio_files(directory_path):\n",
    "    import csv\n",
    "    import os\n",
    "    import pandas as pd\n",
    "    import random\n",
    "    from random import sample \n",
    "    \"\"\"Deletes audio files shorter than 4 seconds in a directory.\n",
    "    \n",
    "    Args:\n",
    "    directory_path: The path to the directory containing audio files.\n",
    "    \"\"\"\n",
    "    # Get all audio files with the specified extension (default: wav)\n",
    "    for foldername, subfolders, filenames in os.walk(directory_path):\n",
    "        validated_list = list(pd.read_csv(os.path.join(directory_path, \"validated.tsv\"), sep='\\t', quoting=csv.QUOTE_NONE)['path']) # audio in the validation list\n",
    "        duration_df = pd.read_csv(os.path.join(directory_path, \"clip_durations.tsv\"), sep='\\t', quoting=csv.QUOTE_NONE)\n",
    "        duration_long_list = list(duration_df[duration_df['duration[ms]']>4000]['clip']) # audio length longer than 4000 ms\n",
    "        good_list = list(set(validated_list) & set(duration_long_list)) # their intersection\n",
    "\n",
    "        # random sample max 10,000 files per language\n",
    "        \n",
    "        random.seed(10)\n",
    "        sample_size = 10000\n",
    "        savename_STM_sampled_audio = os.path.join(directory_path, \"STM_sampled_audio.csv\")\n",
    "        if not os.path.isfile(savename_STM_sampled_audio):\n",
    "            if len(good_list)>sample_size:\n",
    "                good_sample = sample(good_list,sample_size)\n",
    "            else:\n",
    "                good_sample = good_list\n",
    "            pd.DataFrame(good_sample, columns=['filename']).to_csv(savename_STM_sampled_audio)\n",
    "        else:\n",
    "            good_sample = list(pd.read_csv(savename_STM_sampled_audio)['filename'])\n",
    "            \n",
    "            for filename in filenames:\n",
    "                if filename.lower().endswith(\".mp3\"):\n",
    "                    file_path = os.path.join(foldername, filename)\n",
    "                    if not filename in good_sample:\n",
    "                        # print(file_path)\n",
    "                        os.remove(file_path)"
   ]
  },
  {
   "cell_type": "code",
   "execution_count": 2,
   "id": "864713c0-040b-4a7e-9640-d7d545da677c",
   "metadata": {},
   "outputs": [
    {
     "name": "stdout",
     "output_type": "stream",
     "text": [
      "data/speechCorp/cv-corpus-16.1-2023-12-06/fy-NL\n"
     ]
    },
    {
     "ename": "UnboundLocalError",
     "evalue": "local variable 'file_path' referenced before assignment",
     "output_type": "error",
     "traceback": [
      "\u001b[0;31m---------------------------------------------------------------------------\u001b[0m",
      "\u001b[0;31mUnboundLocalError\u001b[0m                         Traceback (most recent call last)",
      "Input \u001b[0;32mIn [2]\u001b[0m, in \u001b[0;36m<cell line: 10>\u001b[0;34m()\u001b[0m\n\u001b[1;32m     11\u001b[0m subfolder_path \u001b[38;5;241m=\u001b[39m os\u001b[38;5;241m.\u001b[39mpath\u001b[38;5;241m.\u001b[39mjoin(root_folder, subfolder)\n\u001b[1;32m     12\u001b[0m \u001b[38;5;28mprint\u001b[39m(subfolder_path)\n\u001b[0;32m---> 13\u001b[0m \u001b[43mdelete_short_audio_files\u001b[49m\u001b[43m(\u001b[49m\u001b[43msubfolder_path\u001b[49m\u001b[43m)\u001b[49m\n",
      "Input \u001b[0;32mIn [1]\u001b[0m, in \u001b[0;36mdelete_short_audio_files\u001b[0;34m(directory_path)\u001b[0m\n\u001b[1;32m     35\u001b[0m     file_path \u001b[38;5;241m=\u001b[39m os\u001b[38;5;241m.\u001b[39mpath\u001b[38;5;241m.\u001b[39mjoin(foldername, filename)\n\u001b[1;32m     36\u001b[0m \u001b[38;5;28;01mif\u001b[39;00m \u001b[38;5;129;01mnot\u001b[39;00m filename \u001b[38;5;129;01min\u001b[39;00m good_sample:\n\u001b[1;32m     37\u001b[0m     \u001b[38;5;66;03m# print(file_path)\u001b[39;00m\n\u001b[0;32m---> 38\u001b[0m     os\u001b[38;5;241m.\u001b[39mremove(\u001b[43mfile_path\u001b[49m)\n",
      "\u001b[0;31mUnboundLocalError\u001b[0m: local variable 'file_path' referenced before assignment"
     ]
    }
   ],
   "source": [
    "import os\n",
    "\n",
    "root_folder = 'data/speechCorp/cv-corpus-16.1-2023-12-06/'\n",
    "all_items = os.listdir(root_folder)\n",
    "\n",
    "# Filter out only the subfolders\n",
    "subfolders = [item for item in all_items if os.path.isdir(os.path.join(root_folder, item))]\n",
    "\n",
    "# Print the names of all subfolders\n",
    "for subfolder in subfolders:\n",
    "    subfolder_path = os.path.join(root_folder, subfolder)\n",
    "    print(subfolder_path)\n",
    "    delete_short_audio_files(subfolder_path)"
   ]
  },
  {
   "cell_type": "code",
   "execution_count": null,
   "id": "fa0cc4f8-8713-40b8-84a0-525e99725ef9",
   "metadata": {},
   "outputs": [],
   "source": []
  }
 ],
 "metadata": {
  "kernelspec": {
   "display_name": "Python 3 (ipykernel)",
   "language": "python",
   "name": "python3"
  },
  "language_info": {
   "codemirror_mode": {
    "name": "ipython",
    "version": 3
   },
   "file_extension": ".py",
   "mimetype": "text/x-python",
   "name": "python",
   "nbconvert_exporter": "python",
   "pygments_lexer": "ipython3",
   "version": "3.8.18"
  }
 },
 "nbformat": 4,
 "nbformat_minor": 5
}
